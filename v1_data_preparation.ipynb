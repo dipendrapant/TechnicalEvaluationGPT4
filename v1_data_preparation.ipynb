{
 "cells": [
  {
   "cell_type": "markdown",
   "metadata": {},
   "source": [
    "## 1. Counsel-Chat Dataset\n",
    "\n",
    "Dataset Obtained From:\n",
    "https://github.com/nbertagnolli/counsel-chat\n"
   ]
  },
  {
   "cell_type": "code",
   "execution_count": 1,
   "metadata": {},
   "outputs": [
    {
     "name": "stdout",
     "output_type": "stream",
     "text": [
      "Intel MKL WARNING: Support of Intel(R) Streaming SIMD Extensions 4.2 (Intel(R) SSE4.2) enabled only processors has been deprecated. Intel oneAPI Math Kernel Library 2025.0 will require Intel(R) Advanced Vector Extensions (Intel(R) AVX) instructions.\n",
      "Intel MKL WARNING: Support of Intel(R) Streaming SIMD Extensions 4.2 (Intel(R) SSE4.2) enabled only processors has been deprecated. Intel oneAPI Math Kernel Library 2025.0 will require Intel(R) Advanced Vector Extensions (Intel(R) AVX) instructions.\n"
     ]
    }
   ],
   "source": [
    "import pandas as pd\n",
    "import numpy as np"
   ]
  },
  {
   "cell_type": "markdown",
   "metadata": {},
   "source": [
    "### Preprocess the dataset\n"
   ]
  },
  {
   "cell_type": "code",
   "execution_count": 6,
   "metadata": {},
   "outputs": [
    {
     "name": "stdout",
     "output_type": "stream",
     "text": [
      "<class 'pandas.core.frame.DataFrame'>\n",
      "RangeIndex: 1482 entries, 0 to 1481\n",
      "Data columns (total 9 columns):\n",
      " #   Column         Non-Null Count  Dtype \n",
      "---  ------         --------------  ----- \n",
      " 0   questionID     1482 non-null   object\n",
      " 1   questionTitle  1480 non-null   object\n",
      " 2   questionText   1383 non-null   object\n",
      " 3   questionUrl    1482 non-null   object\n",
      " 4   topics         1472 non-null   object\n",
      " 5   therapistName  1482 non-null   object\n",
      " 6   therapistUrl   1482 non-null   object\n",
      " 7   answerText     1482 non-null   object\n",
      " 8   upvotes        1482 non-null   int64 \n",
      "dtypes: int64(1), object(8)\n",
      "memory usage: 104.3+ KB\n",
      "None\n",
      "                 questionID                                     questionTitle  \\\n",
      "0  5566fab2a64752d71ec3ca69  Escalating disagreements between mother and wife   \n",
      "1  5566f94fa64752d71ec3ca64          I'm addicted to smoking. How can I stop?   \n",
      "2  5567d26887a1cc0c3f3d8f46                    Keeping secrets from my family   \n",
      "3  556bed15c969ba5861709df5         The Underlying Causes of Being Possessive   \n",
      "4  556ba115c969ba5861709de6         Can I control anxiety without medication?   \n",
      "\n",
      "                                        questionText  \\\n",
      "0  My wife and mother are having tense disagreeme...   \n",
      "1  I'm planning to have baby, so I have to quit s...   \n",
      "2  I have secrets in my mind, and I don't know wh...   \n",
      "3  I am extremely possessive in my relationships ...   \n",
      "4  I had a head injury a few years ago and my min...   \n",
      "\n",
      "                                         questionUrl  \\\n",
      "0  https://counselchat.com/questions/escalating-d...   \n",
      "1  https://counselchat.com/questions/i-m-addicted...   \n",
      "2  https://counselchat.com/questions/keeping-secr...   \n",
      "3  https://counselchat.com/questions/the-underlyi...   \n",
      "4  https://counselchat.com/questions/can-i-contro...   \n",
      "\n",
      "                                   topics             therapistName  \\\n",
      "0                         Family Conflict  Kristi King-Morgan, LMSW   \n",
      "1               Substance Abuse,Addiction          Rebecca Duellman   \n",
      "2                         Family Conflict              Jeevna Bajaj   \n",
      "3  Behavioral Change,Social Relationships          Rebecca Duellman   \n",
      "4                                 Anxiety          Rebecca Duellman   \n",
      "\n",
      "                                        therapistUrl  \\\n",
      "0  https://counselchat.com/therapists/kristi-king...   \n",
      "1  https://counselchat.com/therapists/rebecca-due...   \n",
      "2    https://counselchat.com/therapists/jeevna-bajaj   \n",
      "3  https://counselchat.com/therapists/rebecca-due...   \n",
      "4  https://counselchat.com/therapists/rebecca-due...   \n",
      "\n",
      "                                          answerText  upvotes  \n",
      "0  <p>What you are describing is something psycho...        0  \n",
      "1  <p>Hi. Good for you in planning ahead to do wh...        0  \n",
      "2  <p>It sounds like keeping the secrets has beco...        0  \n",
      "3  <p>Hi there. It's great you are able to realiz...        0  \n",
      "4  <p>You didn't say what or how many medications...        0  \n",
      "                 questionID                                     questionTitle  \\\n",
      "0  5566fab2a64752d71ec3ca69  Escalating disagreements between mother and wife   \n",
      "1  5566f94fa64752d71ec3ca64          I'm addicted to smoking. How can I stop?   \n",
      "2  5567d26887a1cc0c3f3d8f46                    Keeping secrets from my family   \n",
      "3  556bed15c969ba5861709df5         The Underlying Causes of Being Possessive   \n",
      "4  556ba115c969ba5861709de6         Can I control anxiety without medication?   \n",
      "\n",
      "                                        questionText  \\\n",
      "0  my wife and mother are having tense disagreeme...   \n",
      "1  i'm planning to have baby, so i have to quit s...   \n",
      "2  i have secrets in my mind, and i don't know wh...   \n",
      "3  i am extremely possessive in my relationships ...   \n",
      "4  i had a head injury a few years ago and my min...   \n",
      "\n",
      "                                         questionUrl  \\\n",
      "0  https://counselchat.com/questions/escalating-d...   \n",
      "1  https://counselchat.com/questions/i-m-addicted...   \n",
      "2  https://counselchat.com/questions/keeping-secr...   \n",
      "3  https://counselchat.com/questions/the-underlyi...   \n",
      "4  https://counselchat.com/questions/can-i-contro...   \n",
      "\n",
      "                                   topics             therapistName  \\\n",
      "0                         Family Conflict  Kristi King-Morgan, LMSW   \n",
      "1               Substance Abuse,Addiction          Rebecca Duellman   \n",
      "2                         Family Conflict              Jeevna Bajaj   \n",
      "3  Behavioral Change,Social Relationships          Rebecca Duellman   \n",
      "4                                 Anxiety          Rebecca Duellman   \n",
      "\n",
      "                                        therapistUrl  \\\n",
      "0  https://counselchat.com/therapists/kristi-king...   \n",
      "1  https://counselchat.com/therapists/rebecca-due...   \n",
      "2    https://counselchat.com/therapists/jeevna-bajaj   \n",
      "3  https://counselchat.com/therapists/rebecca-due...   \n",
      "4  https://counselchat.com/therapists/rebecca-due...   \n",
      "\n",
      "                                          answerText  upvotes  \n",
      "0  <p>what you are describing is something psycho...        0  \n",
      "1  <p>hi. good for you in planning ahead to do wh...        0  \n",
      "2  <p>it sounds like keeping the secrets has beco...        0  \n",
      "3  <p>hi there. it's great you are able to realiz...        0  \n",
      "4  <p>you didn't say what or how many medications...        0  \n"
     ]
    },
    {
     "name": "stderr",
     "output_type": "stream",
     "text": [
      "<>:13: SyntaxWarning: invalid escape sequence '\\w'\n",
      "<>:14: SyntaxWarning: invalid escape sequence '\\w'\n",
      "<>:13: SyntaxWarning: invalid escape sequence '\\w'\n",
      "<>:14: SyntaxWarning: invalid escape sequence '\\w'\n",
      "/var/folders/g3/jrlfjtwx02sf31nf1znrs8xr0000gn/T/ipykernel_18173/2985369374.py:13: SyntaxWarning: invalid escape sequence '\\w'\n",
      "  counsel_chat_data['questionText'] = counsel_chat_data['questionText'].str.lower().str.replace('[^\\w\\s]', '')\n",
      "/var/folders/g3/jrlfjtwx02sf31nf1znrs8xr0000gn/T/ipykernel_18173/2985369374.py:14: SyntaxWarning: invalid escape sequence '\\w'\n",
      "  counsel_chat_data['answerText'] = counsel_chat_data['answerText'].str.lower().str.replace('[^\\w\\s]', '')\n"
     ]
    }
   ],
   "source": [
    "# Load the Counsel-Chat dataset\n",
    "counsel_chat_data_path = '/Users/dipendrapant/Library/CloudStorage/OneDrive-NTNU/ForFun/npj_digital_medicine/code/data/counsel_chat/counselchat-data.csv'\n",
    "counsel_chat_data = pd.read_csv(counsel_chat_data_path)\n",
    "\n",
    "# Inspect the Data\n",
    "print(counsel_chat_data.info())\n",
    "print(counsel_chat_data.head())\n",
    "\n",
    "# Drop rows with missing values in important columns\n",
    "counsel_chat_data.dropna(subset=['questionText', 'answerText'], inplace=True)\n",
    "\n",
    "# Normalize text data in the relevant columns\n",
    "counsel_chat_data['questionText'] = counsel_chat_data['questionText'].str.lower(\n",
    ").str.replace('[^\\w\\s]', '')\n",
    "counsel_chat_data['answerText'] = counsel_chat_data['answerText'].str.lower(\n",
    ").str.replace('[^\\w\\s]', '')\n",
    "\n",
    "# Verify normalization\n",
    "print(counsel_chat_data.head())\n",
    "\n",
    "# Save the cleaned data to a new CSV file\n",
    "cleaned_csv_file = '/Users/dipendrapant/Library/CloudStorage/OneDrive-NTNU/ForFun/npj_digital_medicine/code/data/counsel_chat_data_after_data_preparation.csv'\n",
    "counsel_chat_data.to_csv(cleaned_csv_file, index=False)"
   ]
  },
  {
   "cell_type": "code",
   "execution_count": null,
   "metadata": {},
   "outputs": [],
   "source": [
    "# Load the Counsel-Chat dataset\n",
    "counsel_chat_data_path = '/code/data/counsel_chat/counselchat-data.csv'\n",
    "counsel_chat_data = pd.read_csv(counsel_chat_data_path)\n",
    "\n",
    "# Inspect the Data\n",
    "print(counsel_chat_data.info())\n",
    "print(counsel_chat_data.head())\n",
    "\n",
    "# Drop rows with missing values in important columns\n",
    "counsel_chat_data.dropna(subset=['questionText', 'answerText'], inplace=True)\n",
    "\n",
    "# Normalize text data in the relevant columns\n",
    "counsel_chat_data['questionText'] = counsel_chat_data['questionText'].str.lower(\n",
    ").str.replace('[^\\w\\s]', '')\n",
    "counsel_chat_data['answerText'] = counsel_chat_data['answerText'].str.lower(\n",
    ").str.replace('[^\\w\\s]', '')\n",
    "\n",
    "# Verify normalization\n",
    "print(counsel_chat_data.head())\n",
    "\n",
    "# Save the cleaned data to a new CSV file\n",
    "cleaned_csv_file = '/code/data/counsel_chat_data_after_data_preparation.csv'\n",
    "counsel_chat_data.to_csv(cleaned_csv_file, index=False)"
   ]
  },
  {
   "cell_type": "markdown",
   "metadata": {},
   "source": [
    "### View Summary Statistics\n"
   ]
  },
  {
   "cell_type": "code",
   "execution_count": 4,
   "metadata": {},
   "outputs": [
    {
     "name": "stdout",
     "output_type": "stream",
     "text": [
      "Index(['questionID', 'questionTitle', 'questionText', 'questionUrl', 'topics',\n",
      "       'therapistName', 'therapistUrl', 'answerText', 'upvotes'],\n",
      "      dtype='object')\n",
      "CounselChat Data - Question Statistics:\n",
      "Mean: 294.8112798264642\n",
      "Std: 264.02961854205614\n",
      "Min: 26.0\n",
      "25%: 147.0\n",
      "50%: 232.0\n",
      "75%: 349.0\n",
      "Max: 2703.0\n",
      "CounselChat Data - Response Statistics:\n",
      "Mean: 1521.9117859725236\n",
      "Std: 6972.597570649483\n",
      "Min: 11.0\n",
      "25%: 599.5\n",
      "50%: 959.0\n",
      "75%: 1466.5\n",
      "Max: 223973.0\n"
     ]
    }
   ],
   "source": [
    "# Summary statistics for the length columns\n",
    "\n",
    "counsel_chat_data = pd.read_csv(\n",
    "    '/Users/dipendrapant/Library/CloudStorage/OneDrive-NTNU/ForFun/npj_digital_medicine/v2_TechnicalEvaluationGPT4/data/counsel_chat_data_after_data_preparation.csv')\n",
    "\n",
    "# print column names in both\n",
    "print(counsel_chat_data.columns)\n",
    "\n",
    "# Max of the generated response of both datasets\n",
    "counsel_chat_data['question_length'] = counsel_chat_data['questionText'].apply(len)\n",
    "counsel_chat_data['response_length'] = counsel_chat_data['answerText'].apply(len)\n",
    "# Display statistical summary for the text lengths\n",
    "summary_v3 = counsel_chat_data['question_length'].describe()\n",
    "summary_v4 = counsel_chat_data['response_length'].describe()\n",
    "\n",
    "# Extracting the required statistics\n",
    "required_stats = ['mean', 'std', 'min', '25%', '50%', '75%', 'max']\n",
    "\n",
    "# Printing the statistics for the first dataset\n",
    "print(\"CounselChat Data - Question Statistics:\")\n",
    "for stat in required_stats:\n",
    "    print(f\"{stat.capitalize()}: {summary_v3[stat]}\")\n",
    "\n",
    "# Printing the statistics for the first dataset\n",
    "print(\"CounselChat Data - Response Statistics:\")\n",
    "for stat in required_stats:\n",
    "    print(f\"{stat.capitalize()}: {summary_v4[stat]}\")"
   ]
  }
 ],
 "metadata": {
  "kernelspec": {
   "display_name": "dig_med",
   "language": "python",
   "name": "python3"
  },
  "language_info": {
   "codemirror_mode": {
    "name": "ipython",
    "version": 3
   },
   "file_extension": ".py",
   "mimetype": "text/x-python",
   "name": "python",
   "nbconvert_exporter": "python",
   "pygments_lexer": "ipython3",
   "version": "3.12.3"
  }
 },
 "nbformat": 4,
 "nbformat_minor": 2
}
